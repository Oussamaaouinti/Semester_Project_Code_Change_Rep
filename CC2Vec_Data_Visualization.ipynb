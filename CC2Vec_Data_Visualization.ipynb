{
 "cells": [
  {
   "cell_type": "code",
   "execution_count": 132,
   "id": "f905a365",
   "metadata": {},
   "outputs": [],
   "source": [
    "from bugswarm.common.rest_api.database_api import DatabaseAPI\n",
    "import requests\n",
    "from tqdm import tqdm\n",
    "bugswarmapi = DatabaseAPI(token=\"2vFV-ZCG70az8Fg84uNBvXw0ICnthMRvV83APgAjICY\")\n",
    "session = requests.Session()"
   ]
  },
  {
   "cell_type": "code",
   "execution_count": 133,
   "id": "d97c0192",
   "metadata": {},
   "outputs": [],
   "source": [
    "def get_diff(repo: str, commit_sha: str):\n",
    "    \"\"\"\n",
    "    Can be optimized\n",
    "    \"\"\"\n",
    "    diff_code=[]\n",
    "    added_code = []\n",
    "    removed_code = []\n",
    "    diff = session.get(f\"https://github.com/{repo}/commit/{commit_sha}.diff\").text\n",
    "    line_counter=0\n",
    "    file_counter=0\n",
    "    for line in diff.split(\"\\n\"):\n",
    "        if not line:\n",
    "            continue\n",
    "        line_counter +=1\n",
    "        if len(line)>1 : \n",
    "            if line[0:2]==\"++\" or line_counter== len(diff.split(\"\\n\"))-1 :\n",
    "                if file_counter!=0 :\n",
    "                    diff_code.append({\"added_code\": added_code,\n",
    "                              \"removed_code\": removed_code})\n",
    "                    added_code = []\n",
    "                    removed_code = []\n",
    "                if line[0:2]==\"++\" : \n",
    "                    file_counter+=1 \n",
    "            if line[0] == \"+\" and line[1] != \"+\":\n",
    "                added_code.append(line[1:])  # remove +\n",
    "            if line[0] == \"-\" and line[1]!= \"-\":\n",
    "                removed_code.append(line[1:])\n",
    "    print (file_counter) \n",
    "    return diff_code"
   ]
  },
  {
   "cell_type": "code",
   "execution_count": 134,
   "id": "8bb4fe98",
   "metadata": {},
   "outputs": [
    {
     "name": "stdout",
     "output_type": "stream",
     "text": [
      "1\n",
      "['<project xmlns=\"http://maven.apache.org/POM/4.0.0\" xmlns:xsi=\"http://www.w3.org/2001/XMLSchema-instance\"', '    xsi:schemaLocation=\"http://maven.apache.org/POM/4.0.0 http://maven.apache.org/xsd/maven-4.0.0.xsd\">', '        <maven>3.2.1</maven>', '                <artifactId>maven-compiler-plugin</artifactId>', '                <version>${maven-compiler-plugin.version}</version>', '                    <source>${maven.compiler.source}</source>', '                    <target>${maven.compiler.target}</target>', '            <plugin>', '                <groupId>org.sonatype.plugins</groupId>', '                <artifactId>nexus-staging-maven-plugin</artifactId>', '                <version>${nexus-staging-maven-plugin.version}</version>', '                <extensions>true</extensions>', '                <configuration>', '                    <serverId>ossrh</serverId>', '                    <nexusUrl>https://oss.sonatype.org/</nexusUrl>', '                    <autoReleaseAfterClose>true</autoReleaseAfterClose>', '                </configuration>', '            </plugin>', '            <plugin>', '                <groupId>org.apache.maven.plugins</groupId>', '                <artifactId>maven-release-plugin</artifactId>', '                <version>${maven-release-plugin.version}</version>', '                <configuration>', '                    <arguments>-Prelease</arguments>', '                    <preparationGoals>package</preparationGoals>', '                </configuration>', '            </plugin>', '                            <noqualifier>all</noqualifier>']\n"
     ]
    }
   ],
   "source": [
    "test = get_diff(\"gwtbootstrap3/gwtbootstrap3\", \"41d93b14bf4c8ba2ae75d561ad3a640319e5a4ce\")\n",
    "for diff in test : \n",
    "    for file in test : \n",
    "        print (file['added_code'])"
   ]
  },
  {
   "cell_type": "code",
   "execution_count": 131,
   "id": "00bd3198",
   "metadata": {},
   "outputs": [
    {
     "name": "stderr",
     "output_type": "stream",
     "text": [
      "1it [00:00,  1.89it/s]"
     ]
    },
    {
     "name": "stdout",
     "output_type": "stream",
     "text": [
      "2\n",
      "1\n",
      "2\n"
     ]
    },
    {
     "name": "stderr",
     "output_type": "stream",
     "text": [
      "2it [00:01,  1.90it/s]"
     ]
    },
    {
     "name": "stdout",
     "output_type": "stream",
     "text": [
      "2\n",
      "3\n"
     ]
    },
    {
     "name": "stderr",
     "output_type": "stream",
     "text": [
      "3it [00:01,  1.95it/s]"
     ]
    },
    {
     "name": "stdout",
     "output_type": "stream",
     "text": [
      "6\n",
      "227\n"
     ]
    },
    {
     "name": "stderr",
     "output_type": "stream",
     "text": [
      "4it [04:40, 84.13s/it]"
     ]
    },
    {
     "name": "stdout",
     "output_type": "stream",
     "text": [
      "8\n",
      "1\n"
     ]
    },
    {
     "name": "stderr",
     "output_type": "stream",
     "text": [
      "5it [04:41, 59.06s/it]"
     ]
    },
    {
     "name": "stdout",
     "output_type": "stream",
     "text": [
      "1\n",
      "6\n"
     ]
    },
    {
     "name": "stderr",
     "output_type": "stream",
     "text": [
      "6it [04:41, 41.46s/it]"
     ]
    },
    {
     "name": "stdout",
     "output_type": "stream",
     "text": [
      "1\n",
      "2\n"
     ]
    },
    {
     "name": "stderr",
     "output_type": "stream",
     "text": [
      "7it [04:42, 29.17s/it]"
     ]
    },
    {
     "name": "stdout",
     "output_type": "stream",
     "text": [
      "1\n",
      "10\n"
     ]
    },
    {
     "name": "stderr",
     "output_type": "stream",
     "text": [
      "8it [04:42, 20.59s/it]"
     ]
    },
    {
     "name": "stdout",
     "output_type": "stream",
     "text": [
      "1\n"
     ]
    },
    {
     "name": "stderr",
     "output_type": "stream",
     "text": [
      "9it [04:43, 14.54s/it]"
     ]
    },
    {
     "name": "stdout",
     "output_type": "stream",
     "text": [
      "2\n",
      "1\n",
      "1\n"
     ]
    },
    {
     "name": "stderr",
     "output_type": "stream",
     "text": [
      "10it [04:43, 10.29s/it]"
     ]
    },
    {
     "name": "stdout",
     "output_type": "stream",
     "text": [
      "1\n",
      "1\n",
      "1\n"
     ]
    },
    {
     "name": "stderr",
     "output_type": "stream",
     "text": [
      "12it [04:44,  7.27s/it]"
     ]
    },
    {
     "name": "stdout",
     "output_type": "stream",
     "text": [
      "37\n",
      "1\n",
      "1\n",
      "1\n",
      "2\n"
     ]
    },
    {
     "name": "stderr",
     "output_type": "stream",
     "text": [
      "14it [04:44,  5.17s/it]"
     ]
    },
    {
     "name": "stdout",
     "output_type": "stream",
     "text": [
      "1\n",
      "2\n",
      "1\n",
      "1\n"
     ]
    },
    {
     "name": "stderr",
     "output_type": "stream",
     "text": [
      "16it [04:45,  3.69s/it]"
     ]
    },
    {
     "name": "stdout",
     "output_type": "stream",
     "text": [
      "7\n"
     ]
    },
    {
     "name": "stderr",
     "output_type": "stream",
     "text": [
      "17it [04:45,  2.70s/it]"
     ]
    },
    {
     "name": "stdout",
     "output_type": "stream",
     "text": [
      "1\n",
      "1\n"
     ]
    },
    {
     "name": "stderr",
     "output_type": "stream",
     "text": [
      "18it [04:45,  2.01s/it]"
     ]
    },
    {
     "name": "stdout",
     "output_type": "stream",
     "text": [
      "1\n",
      "1\n",
      "1\n"
     ]
    },
    {
     "name": "stderr",
     "output_type": "stream",
     "text": [
      "20it [04:45,  1.42s/it]"
     ]
    },
    {
     "name": "stdout",
     "output_type": "stream",
     "text": [
      "1\n",
      "1\n",
      "1\n",
      "22\n"
     ]
    },
    {
     "name": "stderr",
     "output_type": "stream",
     "text": [
      "21it [04:49,  2.04s/it]"
     ]
    },
    {
     "name": "stdout",
     "output_type": "stream",
     "text": [
      "9\n"
     ]
    },
    {
     "name": "stderr",
     "output_type": "stream",
     "text": [
      "21it [04:49, 13.80s/it]"
     ]
    },
    {
     "name": "stdout",
     "output_type": "stream",
     "text": [
      "1\n",
      "2\n"
     ]
    },
    {
     "name": "stderr",
     "output_type": "stream",
     "text": [
      "\n"
     ]
    }
   ],
   "source": [
    "#Applying a filter to treat java code \n",
    "api_filter = '{\"lang\":{\"$in\":[\"Java\"]},\"reproduce_successes\":{\"$gt\":0},\"build_system\":{\"$in\":[\"Maven\",\"Ant\",\"Gradle\"]},\"classification.code\":[\"Yes\",\"Partial\"]}'\n",
    "bugswarmapi.filter_artifacts(api_filter)\n",
    "#Building the dataset from BugSwarm to be similar to CC2Vec Dataset\n",
    "dataset = [[],[],[],[]]\n",
    "limit = 20\n",
    "for i, artifact in tqdm(enumerate(bugswarmapi.list_artifacts())):\n",
    "    for job, label in [(\"failed_job\", 0), (\"passed_job\", 1)]:\n",
    "        dataset[0].append(artifact[job][\"trigger_sha\"])\n",
    "        diff = get_diff(artifact[\"repo\"], artifact[job][\"trigger_sha\"])\n",
    "        dataset[1].append(label)\n",
    "        dataset[2].append(\"Trying to have the same dataset, but we don't care about this message\")\n",
    "        dataset[3].append(diff)\n",
    "    if i > limit:\n",
    "        break"
   ]
  },
  {
   "cell_type": "code",
   "execution_count": 135,
   "id": "7e0e2bed",
   "metadata": {},
   "outputs": [],
   "source": [
    "import pickle\n",
    "#Transform the dataset to a  jsonfile \n",
    "train_ids,train_labels,train_messages,train_code = dataset\n",
    "#json_dataset = json.dumps(dataset)\n",
    "#print(json_dataset[0][0]) \n",
    "#Convert the json format to a stripped file ( training data_set)\n",
    "bugswarm_beta_training_dataset = open(\"bugswarm_beta2.0_training_dataset\", \"wb\")\n",
    "pickle.dump(dataset,bugswarm_beta_training_dataset)\n",
    "bugswarm_beta_training_dataset.close() "
   ]
  },
  {
   "cell_type": "markdown",
   "id": "ba3b0402",
   "metadata": {},
   "source": []
  },
  {
   "cell_type": "code",
   "execution_count": 33,
   "id": "7642dcc8",
   "metadata": {},
   "outputs": [
    {
     "ename": "TypeError",
     "evalue": "list indices must be integers or slices, not str",
     "output_type": "error",
     "traceback": [
      "\u001b[0;31m---------------------------------------------------------------------------\u001b[0m",
      "\u001b[0;31mTypeError\u001b[0m                                 Traceback (most recent call last)",
      "\u001b[0;32m/tmp/ipykernel_2358279/4225357116.py\u001b[0m in \u001b[0;36m<module>\u001b[0;34m\u001b[0m\n\u001b[1;32m      1\u001b[0m \u001b[0mdata1\u001b[0m\u001b[0;34m=\u001b[0m\u001b[0;34m[\u001b[0m\u001b[0;34m]\u001b[0m\u001b[0;34m\u001b[0m\u001b[0;34m\u001b[0m\u001b[0m\n\u001b[0;32m----> 2\u001b[0;31m \u001b[0mdata1\u001b[0m\u001b[0;34m[\u001b[0m\u001b[0;34m\"ids\"\u001b[0m\u001b[0;34m]\u001b[0m\u001b[0;34m.\u001b[0m\u001b[0mappend\u001b[0m\u001b[0;34m(\u001b[0m\u001b[0;36m0\u001b[0m\u001b[0;34m)\u001b[0m\u001b[0;34m\u001b[0m\u001b[0;34m\u001b[0m\u001b[0m\n\u001b[0m\u001b[1;32m      3\u001b[0m \u001b[0mprint\u001b[0m \u001b[0;34m(\u001b[0m\u001b[0mdata1\u001b[0m\u001b[0;34m)\u001b[0m\u001b[0;34m\u001b[0m\u001b[0;34m\u001b[0m\u001b[0m\n",
      "\u001b[0;31mTypeError\u001b[0m: list indices must be integers or slices, not str"
     ]
    }
   ],
   "source": []
  },
  {
   "cell_type": "code",
   "execution_count": null,
   "id": "947b3e41",
   "metadata": {},
   "outputs": [],
   "source": []
  }
 ],
 "metadata": {
  "kernelspec": {
   "display_name": "Python 3 (ipykernel)",
   "language": "python",
   "name": "python3"
  },
  "language_info": {
   "codemirror_mode": {
    "name": "ipython",
    "version": 3
   },
   "file_extension": ".py",
   "mimetype": "text/x-python",
   "name": "python",
   "nbconvert_exporter": "python",
   "pygments_lexer": "ipython3",
   "version": "3.7.6"
  }
 },
 "nbformat": 4,
 "nbformat_minor": 5
}
