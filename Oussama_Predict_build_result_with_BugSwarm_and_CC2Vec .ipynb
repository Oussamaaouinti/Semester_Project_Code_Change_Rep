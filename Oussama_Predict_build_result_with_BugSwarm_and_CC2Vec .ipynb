{
 "cells": [
  {
   "cell_type": "code",
   "execution_count": 1,
   "id": "3f49b438",
   "metadata": {},
   "outputs": [
    {
     "name": "stdout",
     "output_type": "stream",
     "text": [
      "Requirement already satisfied: unidiff in ./venv/lib/python3.7/site-packages (0.7.0)\n",
      "Requirement already satisfied: bugswarm-client in ./venv/lib/python3.7/site-packages (0.1.6)\n",
      "Requirement already satisfied: requests>=2.20.0 in ./venv/lib/python3.7/site-packages (from bugswarm-client) (2.26.0)\n",
      "Requirement already satisfied: Click==6.7 in ./venv/lib/python3.7/site-packages (from bugswarm-client) (6.7)\n",
      "Requirement already satisfied: bugswarm-common==0.1.13 in ./venv/lib/python3.7/site-packages (from bugswarm-client) (0.1.13)\n",
      "Requirement already satisfied: CacheControl==0.12.3 in ./venv/lib/python3.7/site-packages (from bugswarm-common==0.1.13->bugswarm-client) (0.12.3)\n",
      "Requirement already satisfied: requests-cache==0.4.13 in ./venv/lib/python3.7/site-packages (from bugswarm-common==0.1.13->bugswarm-client) (0.4.13)\n",
      "Requirement already satisfied: msgpack-python in ./venv/lib/python3.7/site-packages (from CacheControl==0.12.3->bugswarm-common==0.1.13->bugswarm-client) (0.5.6)\n",
      "Requirement already satisfied: charset-normalizer~=2.0.0 in ./venv/lib/python3.7/site-packages (from requests>=2.20.0->bugswarm-client) (2.0.8)\n",
      "Requirement already satisfied: urllib3<1.27,>=1.21.1 in ./venv/lib/python3.7/site-packages (from requests>=2.20.0->bugswarm-client) (1.26.7)\n",
      "Requirement already satisfied: idna<4,>=2.5 in ./venv/lib/python3.7/site-packages (from requests>=2.20.0->bugswarm-client) (3.3)\n",
      "Requirement already satisfied: certifi>=2017.4.17 in ./venv/lib/python3.7/site-packages (from requests>=2.20.0->bugswarm-client) (2021.10.8)\n"
     ]
    }
   ],
   "source": [
    "# Install requiered packages\n",
    "!pip install unidiff bugswarm-client"
   ]
  },
  {
   "cell_type": "code",
   "execution_count": 2,
   "id": "c93f59f4",
   "metadata": {},
   "outputs": [],
   "source": [
    "from collections import defaultdict\n",
    "from bugswarm.common.rest_api.database_api import DatabaseAPI\n",
    "import requests\n",
    "from tqdm import tqdm\n",
    "from unidiff import PatchSet\n",
    "from typing import List\n",
    "import json\n",
    "\n",
    "session = requests.Session()\n",
    "bugswarmapi = DatabaseAPI(token=\"2vFV-ZCG70az8Fg84uNBvXw0ICnthMRvV83APgAjICY\")"
   ]
  },
  {
   "cell_type": "code",
   "execution_count": 3,
   "id": "4e77b0b9",
   "metadata": {},
   "outputs": [
    {
     "name": "stdout",
     "output_type": "stream",
     "text": [
      "{\n",
      "    \".travis.yml\": {\n",
      "        \"added_code\": [\n",
      "            \"- openjdk8\"\n",
      "        ],\n",
      "        \"removed_code\": [\n",
      "            \"- oraclejdk8\"\n",
      "        ]\n",
      "    },\n",
      "    \"README.md\": {\n",
      "        \"added_code\": [\n",
      "            \"### Final Release\",\n",
      "            \"* 1.0.0 - Released on 26 August 2019.\",\n",
      "            \"* Based on Bootstrap v3.4.0\",\n",
      "            \"* [Demo](http://gwtbootstrap3.github.io/gwtbootstrap3-demo/) - The GWTBootstrap3 1.0.0 Demo.\",\n",
      "            \"* [API Docs](http://gwtbootstrap3.github.io/gwtbootstrap3-demo/apidocs) - The GWTBootstrap3 1.0.0 API Javadoc.\"\n",
      "        ],\n",
      "        \"removed_code\": [\n",
      "            \"### Current Release\",\n",
      "            \"* 0.9.4 - Released on 21 February 2017.\",\n",
      "            \"* Based on Bootstrap v3.3.7\",\n",
      "            \"* [Demo](http://gwtbootstrap3.github.io/gwtbootstrap3-demo/) - The GWTBootstrap3 0.9.4 Demo.\",\n",
      "            \"* [API Docs](http://gwtbootstrap3.github.io/gwtbootstrap3-demo/apidocs) - The GWTBootstrap3 0.9.4 API Javadoc.\",\n",
      "            \"### Current Snapshot\",\n",
      "            \"* 1.0-SNAPSHOT\",\n",
      "            \"* [Snapshot Demo](http://gwtbootstrap3.github.io/gwtbootstrap3-demo/snapshot) - GWTBootstrap3 v1.0-SNAPSHOT Demo. (Updated after every commit)\",\n",
      "            \"* [API Docs](http://gwtbootstrap3.github.io/gwtbootstrap3-demo/snapshot/apidocs) - GWTBootstrap3 v1.0-SNAPSHOT Javadoc. (Updated after every commit)\",\n",
      "            \"\",\n",
      "            \"* [GwtBootstrap3 Google Group](https://groups.google.com/forum/?fromgroups#!forum/gwtbootstrap3) - Ask questions here.\",\n",
      "            \"* [Issues](https://github.com/gwtbootstrap3/gwtbootstrap3/issues) - File bugs here.\",\n",
      "            \"* [Contributing](https://github.com/gwtbootstrap3/gwtbootstrap3/wiki/Contributing) - Want to help by writing code?  **Awesome!!**  Please read [this](https://github.com/gwtbootstrap3/gwtbootstrap3/wiki/Contributing) first.\",\n",
      "            \"\"\n",
      "        ]\n",
      "    },\n",
      "    \"pom.xml\": {\n",
      "        \"added_code\": [],\n",
      "        \"removed_code\": [\n",
      "            \"<version>${maven-release-plugin.version}</version>\"\n",
      "        ]\n",
      "    }\n",
      "}\n"
     ]
    }
   ],
   "source": [
    "def extract_added_removed_code(hunk):\n",
    "    \"\"\"\n",
    "    Extract added and removed lines\n",
    "    \"\"\"\n",
    "    added_lines = []\n",
    "    removed_lines = []\n",
    "    for line in hunk:\n",
    "        if line.is_added:\n",
    "            added_lines.append(line.value.strip())\n",
    "        if line.is_removed:\n",
    "            removed_lines.append(line.value.strip())\n",
    "    return added_lines, removed_lines\n",
    "\n",
    "\n",
    "def get_diff(repo: str, commit_sha: str):\n",
    "    \"\"\"\n",
    "    Get a dict where keys are filename and value a dict with added_code and removed_code\n",
    "    added_code and removed_code are list of strings\n",
    "    \"\"\"\n",
    "    files = {}\n",
    "    req = session.get(f\"https://github.com/{repo}/commit/{commit_sha}.diff\")\n",
    "    patched_files = PatchSet(req.text)\n",
    "    for patched_file in patched_files:\n",
    "        filepath = patched_file.source_file[2:]  # remove a/\n",
    "        for hunk in patched_file:\n",
    "            added_code, removed_code = extract_added_removed_code(hunk)\n",
    "        files[filepath] = {\n",
    "            \"added_code\": added_code,\n",
    "            \"removed_code\": removed_code\n",
    "        }\n",
    "    return files\n",
    "\n",
    "print(json.dumps(get_diff(\"gwtbootstrap3/gwtbootstrap3\", \"c07f968e099d963eed195c7608487c8515393657\"), indent=4))"
   ]
  },
  {
   "cell_type": "code",
   "execution_count": null,
   "id": "03cf1eca",
   "metadata": {},
   "outputs": [],
   "source": [
    "api_filter = '{\"reproduce_successes\":{\"$gt\":0},\"lang\":{\"$in\":[\"Java\",\"Python\"]}}'\n",
    "bugswarmapi.filter_artifacts(api_filter)\n",
    "\n",
    "ids, labels, msgs, codes = [],[],[],[]\n",
    "size_limit = 10\n",
    "\n",
    "for i, artifact in tqdm(enumerate(bugswarmapi.list_artifacts())):\n",
    "    if i > size_limit:\n",
    "        break   \n",
    "    for job, label in [(\"failed_job\", 0), (\"passed_job\", 1)]:\n",
    "        ids.append(artifact[job][\"trigger_sha\"])\n",
    "        labels.append(label)\n",
    "        msgs.append(f\"Commit msg for {artifact[job]['trigger_sha']}\")\n",
    "        codes.append(\n",
    "            [\n",
    "                diff\n",
    "                for _, diff in get_diff(artifact[\"repo\"], artifact[job][\"trigger_sha\"]).items()\n",
    "            ]\n",
    "        )"
   ]
  },
  {
   "cell_type": "code",
   "execution_count": null,
   "id": "3c5f8772",
   "metadata": {},
   "outputs": [],
   "source": [
    "ids, labels, msgs, codes"
   ]
  },
  {
   "cell_type": "markdown",
   "id": "ff2c299d",
   "metadata": {},
   "source": [
    "## Use CC2Vec"
   ]
  },
  {
   "cell_type": "code",
   "execution_count": null,
   "id": "2a7c144e",
   "metadata": {},
   "outputs": [],
   "source": [
    "import sys\n",
    "if \"CC2Vec\" not in sys.path:\n",
    "    sys.path.append(\"CC2Vec\")\n",
    "\n",
    "import numpy as np\n",
    "import pickle\n",
    "from jit_padding import padding_message, clean_and_reformat_code, padding_commit_code, mapping_dict_msg, mapping_dict_code, convert_msg_to_label\n",
    "from jit_cc2ftr_extracted import extracted_cc2ftr\n",
    "from dataclasses import dataclass"
   ]
  },
  {
   "cell_type": "code",
   "execution_count": null,
   "id": "ba2ce69d",
   "metadata": {},
   "outputs": [],
   "source": [
    "def mapping_dict_code(pad_code, dict_code):\n",
    "    new_pad_code = list()\n",
    "    for commit in pad_code:\n",
    "        new_files = list()\n",
    "        for file in commit:\n",
    "            new_file = list()\n",
    "            for line in file:\n",
    "                new_line = list()\n",
    "                for token in line.split(' '):\n",
    "                    print(token, dict_code.keys())\n",
    "                    return\n",
    "                    if token.lower() in dict_code.keys():\n",
    "                        new_line.append(dict_code[token.lower()])\n",
    "                    else:\n",
    "                        new_line.append(dict_code['<NULL>'])\n",
    "                new_file.append(np.array(new_line))\n",
    "            new_file = np.array(new_file)\n",
    "            new_files.append(new_file)\n",
    "        print(new_files[0].shape)\n",
    "        print(new_files[0])\n",
    "        new_files = np.array(new_files)\n",
    "        new_pad_code.append(new_files)\n",
    "    return np.array(new_pad_code)"
   ]
  },
  {
   "cell_type": "code",
   "execution_count": null,
   "id": "bfc9a2f9",
   "metadata": {},
   "outputs": [],
   "source": [
    "# Taken from jit_cc2ftr.py\n",
    "\n",
    "# parser.add_argument('--msg_length', type=int, default=256, help='the length of the commit message')\n",
    "# parser.add_argument('--code_file', type=int, default=2, help='the number of files in commit code')\n",
    "# parser.add_argument('--code_line', type=int, default=10, help='the number of LOC in each hunk of commit code')\n",
    "# parser.add_argument('--code_length', type=int, default=64, help='the length of each LOC of commit code')\n",
    "\n",
    "@dataclass\n",
    "class Params:\n",
    "    \"\"\"Structure similar to params generated by argparse\"\"\"\n",
    "    dict_file = \"data+model/data/jit/qt_dict.pkl\"\n",
    "    msg_length = 256\n",
    "    code_file = 2\n",
    "    code_line = 10\n",
    "    code_length = 64\n",
    "    batch_size = 1\n",
    "\n",
    "params = Params()\n",
    "\n",
    "with open(params.dict_file, 'rb') as fd:\n",
    "    dictionary = pickle.load(fd)   \n",
    "dict_msg, dict_code = dictionary  \n",
    "\n",
    "pad_msg = padding_message(data=msgs, max_length=params.msg_length)\n",
    "added_code, removed_code = clean_and_reformat_code(codes)\n",
    "pad_added_code = padding_commit_code(data=added_code, max_file=params.code_file, max_line=params.code_line, max_length=params.code_length)\n",
    "pad_removed_code = padding_commit_code(data=removed_code, max_file=params.code_file, max_line=params.code_line, max_length=params.code_length)\n",
    "\n",
    "pad_msg = mapping_dict_msg(pad_msg=pad_msg, dict_msg=dict_msg)\n",
    "pad_added_code = mapping_dict_code(pad_code=pad_added_code, dict_code=dict_code)\n",
    "pad_removed_code = mapping_dict_code(pad_code=pad_removed_code, dict_code=dict_code)\n",
    "pad_msg_labels = convert_msg_to_label(pad_msg=pad_msg, dict_msg=dict_msg)\n",
    "\n",
    "data = (pad_added_code, pad_removed_code, pad_msg_labels, dict_msg, dict_code)\n",
    "extracted_cc2ftr(data=data, params=params)"
   ]
  },
  {
   "cell_type": "code",
   "execution_count": null,
   "id": "05c7dc53",
   "metadata": {},
   "outputs": [],
   "source": []
  },
  {
   "cell_type": "code",
   "execution_count": null,
   "id": "b3071c4b",
   "metadata": {},
   "outputs": [],
   "source": []
  },
  {
   "cell_type": "code",
   "execution_count": null,
   "id": "4a7d3f40",
   "metadata": {},
   "outputs": [],
   "source": []
  }
 ],
 "metadata": {
  "kernelspec": {
   "display_name": "Python 3 (ipykernel)",
   "language": "python",
   "name": "python3"
  },
  "language_info": {
   "codemirror_mode": {
    "name": "ipython",
    "version": 3
   },
   "file_extension": ".py",
   "mimetype": "text/x-python",
   "name": "python",
   "nbconvert_exporter": "python",
   "pygments_lexer": "ipython3",
   "version": "3.7.6"
  }
 },
 "nbformat": 4,
 "nbformat_minor": 5
}
